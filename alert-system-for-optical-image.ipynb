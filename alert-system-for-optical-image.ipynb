{
 "cells": [
  {
   "cell_type": "code",
   "execution_count": 6,
   "metadata": {
    "execution": {
     "iopub.execute_input": "2025-09-18T06:26:49.820560Z",
     "iopub.status.busy": "2025-09-18T06:26:49.820203Z",
     "iopub.status.idle": "2025-09-18T06:26:49.825817Z",
     "shell.execute_reply": "2025-09-18T06:26:49.824654Z",
     "shell.execute_reply.started": "2025-09-18T06:26:49.820535Z"
    },
    "trusted": true
   },
   "outputs": [],
   "source": [
    "SOURCE_IMG = \"/kaggle/working/\"\n",
    "TARGET_IMG = \"kaggle/working/\"\n",
    "RETRIEVE_DIR = \"kaggle/working/\""
   ]
  },
  {
   "cell_type": "markdown",
   "metadata": {},
   "source": [
    "# **split_image.py**"
   ]
  },
  {
   "cell_type": "code",
   "execution_count": null,
   "metadata": {
    "execution": {
     "iopub.execute_input": "2025-09-18T04:13:19.630763Z",
     "iopub.status.busy": "2025-09-18T04:13:19.630384Z",
     "iopub.status.idle": "2025-09-18T04:13:19.642949Z",
     "shell.execute_reply": "2025-09-18T04:13:19.641890Z",
     "shell.execute_reply.started": "2025-09-18T04:13:19.630734Z"
    },
    "trusted": true
   },
   "outputs": [
    {
     "name": "stdout",
     "output_type": "stream",
     "text": [
      "Số patch: 25\n"
     ]
    }
   ],
   "source": [
    "import numpy as np\n",
    "\n",
    "def split_image(img, patch_size=800):\n",
    "    \"\"\"\n",
    "    Split image into patches of size (patch_size, patch_size).\n",
    "    Returns a list of tuples: (patch, (x_offset, y_offset)).\n",
    "    \"\"\"\n",
    "    H, W, C = img.shape\n",
    "    patches = []\n",
    "\n",
    "    n_h = H // patch_size\n",
    "    n_w = W // patch_size\n",
    "    rem_h = H % patch_size\n",
    "    rem_w = W % patch_size\n",
    "\n",
    "    for i in range(n_h):\n",
    "        for j in range(n_w):\n",
    "            y0 = i * patch_size\n",
    "            x0 = j * patch_size\n",
    "            patch = img[y0:y0+patch_size, x0:x0+patch_size, :]\n",
    "            patches.append((patch, (x0, y0)))\n",
    "\n",
    "    # thừa ngang\n",
    "    if rem_w > 0:\n",
    "        for i in range(n_h):\n",
    "            y0 = i * patch_size\n",
    "            x0 = W - patch_size\n",
    "            patch = img[y0:y0+patch_size, x0:W, :]\n",
    "            patches.append((patch, (x0, y0)))\n",
    "\n",
    "    # thừa dọc\n",
    "    if rem_h > 0:\n",
    "        for j in range(n_w):\n",
    "            y0 = H - patch_size\n",
    "            x0 = j * patch_size\n",
    "            patch = img[y0:H, x0:x0+patch_size, :]\n",
    "            patches.append((patch, (x0, y0)))\n",
    "\n",
    "    # thừa cả hai\n",
    "    if rem_h > 0 and rem_w > 0:\n",
    "        y0 = H - patch_size\n",
    "        x0 = W - patch_size\n",
    "        patch = img[y0:H, x0:W, :]\n",
    "        patches.append((patch, (x0, y0)))\n",
    "\n",
    "    return patches\n",
    "\n",
    "\n",
    "\n",
    "if __name__ == \"__main__\":\n",
    "    img = np.random.randint(0, 1, (110, 110, 3), dtype=np.uint8)\n",
    "    patches = split_image(img, 25)\n",
    "    print(\"Số patch:\", len(patches))\n"
   ]
  },
  {
   "cell_type": "markdown",
   "metadata": {},
   "source": [
    "# **calibration.py**"
   ]
  },
  {
   "cell_type": "code",
   "execution_count": null,
   "metadata": {
    "trusted": true
   },
   "outputs": [],
   "source": [
    "def radiometric_correction(img=None, metadata=None):\n",
    "    \"\"\"\n",
    "    Radiometric Correction for a image\n",
    "\n",
    "    Args:\n",
    "        img: Input image (numpy array).\n",
    "        metadata: Source image metadata\n",
    "\n",
    "    Returns:\n",
    "        img: Radiometric corrected image (numpy array)\n",
    "    \"\"\"\n",
    "    return img\n",
    "    \n",
    "def geometric_correction(img=None, metadata=None):\n",
    "    \"\"\"\n",
    "    Geometric Correction for a image\n",
    "\n",
    "    Args:\n",
    "        img: Input image (numpy array).\n",
    "        metadata: Source image metadata\n",
    "\n",
    "    Returns:\n",
    "        img: Geometric corrected image (numpy array)\n",
    "    \"\"\"\n",
    "    return img\n",
    "    \n",
    "def calibration(img=None, metadata=None):\n",
    "    \"\"\"\n",
    "    Calibration for a image\n",
    "\n",
    "    Args:\n",
    "        img: Input image (numpy array).\n",
    "        metadata: Source image metadata\n",
    "    Returns:\n",
    "        img: Calibrated image\n",
    "    \"\"\"\n",
    "    img = geometric_correction(img, metadata)\n",
    "    img = radiometric_correction(img, metadata)\n",
    "    return img"
   ]
  },
  {
   "cell_type": "markdown",
   "metadata": {},
   "source": [
    "# **detection.py**"
   ]
  },
  {
   "cell_type": "code",
   "execution_count": 6,
   "metadata": {
    "execution": {
     "iopub.execute_input": "2025-09-17T08:34:55.540276Z",
     "iopub.status.busy": "2025-09-17T08:34:55.539980Z",
     "iopub.status.idle": "2025-09-17T08:34:55.546283Z",
     "shell.execute_reply": "2025-09-17T08:34:55.545423Z",
     "shell.execute_reply.started": "2025-09-17T08:34:55.540255Z"
    },
    "trusted": true
   },
   "outputs": [],
   "source": [
    "def ship_detection(model=None, img=None):\n",
    "    \"\"\"\n",
    "    Detect ships in an image using a YOLO model.\n",
    "\n",
    "    Args:\n",
    "        model: Pre-loaded YOLO model\n",
    "        img: Input image (numpy array)\n",
    "\n",
    "    Returns:\n",
    "        detection_infors (list): A list containing bounding box coordinates and confidence scores.\n",
    "            Each element is structured as:\n",
    "                [xyxy, conf]\n",
    "            where:\n",
    "                - xyxy: numpy array (n, 4), coordinates of bounding boxes (x1, y1, x2, y2).\n",
    "                - conf: numpy array (n,), confidence scores for each box.\n",
    "    \"\"\"\n",
    "    results = model(img)\n",
    "    detection_infors = []\n",
    "    for r in results:\n",
    "        boxes = r.boxes\n",
    "        xyxy = boxes.xyxy.cpu().numpy()  # (x1, y1, x2, y2)\n",
    "        conf = boxes.conf.cpu().numpy()\n",
    "        a_box = [xyxy, conf]\n",
    "        detection_infors.append(a_box)\n",
    "    return detection_infors\n",
    "    "
   ]
  },
  {
   "cell_type": "markdown",
   "metadata": {},
   "source": [
    "# **alert.py**"
   ]
  },
  {
   "cell_type": "code",
   "execution_count": 1,
   "metadata": {
    "execution": {
     "iopub.execute_input": "2025-09-18T04:52:50.743041Z",
     "iopub.status.busy": "2025-09-18T04:52:50.742763Z",
     "iopub.status.idle": "2025-09-18T04:52:50.943774Z",
     "shell.execute_reply": "2025-09-18T04:52:50.942936Z",
     "shell.execute_reply.started": "2025-09-18T04:52:50.743019Z"
    },
    "trusted": true
   },
   "outputs": [],
   "source": [
    "import os\n",
    "import cv2\n",
    "import gc\n",
    "\n",
    "def scan_images(img_source_dir):\n",
    "    \"\"\"\n",
    "    Scan a directory for image files and return their paths.\n",
    "\n",
    "    Args:\n",
    "        img_source_dir : str\n",
    "            Path to the directory containing images. Defaults to SOURCE_IMG.\n",
    "\n",
    "    Returns:\n",
    "        list of str\n",
    "            A list of full file paths to all images found in the directory.\n",
    "        \"\"\"\n",
    "    large_image_path = []\n",
    "    for img_name in os.listdir(img_source_dir):\n",
    "        img_path = os.path.join(img_source_dir, img_name)\n",
    "        large_image_path.append(img_name)\n",
    "    return large_image_path\n",
    "\n",
    "def read_a_large_image(a_large_image_path):\n",
    "    \"\"\"\n",
    "    Read a large image from the given file path.\n",
    "\n",
    "    Args:\n",
    "        a_large_image_path : str\n",
    "            Path to the large image file.\n",
    "\n",
    "    Returns:\n",
    "        numpy.ndarray\n",
    "            The loaded image as a NumPy array (H, W, C)\n",
    "    \"\"\"\n",
    "    ##Something will be written soon.\n",
    "    print(\"Read successfully:\", a_large_image_path)\n",
    "    return a_large_image\n",
    "\n",
    "def bb_infors_of_large_image(a_large_image_path, model=None):   \n",
    "\n",
    "    \"\"\"\n",
    "    Perform ship detection on a large images within a directory.\n",
    "    Args:\n",
    "        source_dir : str\n",
    "            Path to the directory containing a large image\n",
    "        model : object, optional\n",
    "            Pre-loaded YOLO model used for ship detection.\n",
    "\n",
    "    Returns:\n",
    "        list\n",
    "            A list of bounding box information this image\n",
    "            Each element corresponds to one detected set of boxes and has the form:\n",
    "            \n",
    "            [xyxy, conf]\n",
    "            \n",
    "            where:\n",
    "                - xyxy : numpy.ndarray of shape (n, 4)\n",
    "                    Absolute pixel coordinates of bounding boxes in the large image\n",
    "                    [(x1, y1, x2, y2), ...].\n",
    "                - conf : numpy.ndarray of shape (n,)\n",
    "                    Confidence scores for each bounding box.\n",
    "    \"\"\"\n",
    "    bb_infors = []\n",
    "    large_img = read_a_large_image(a_large_image_path)\n",
    "    splited_large_img_arr = split_image(large_img)\n",
    "    print(\"Splited successfully:\", a_large_image_path)\n",
    "    for a_part_img, (x_offset, y_offset) in splited_large_img_arr:\n",
    "        # detect on a patch\n",
    "        bb_infor = ship_detection(model, a_part_img)  \n",
    "        # bb_infor: [ (xyxy, conf) ]\n",
    "        # convert across this large image\n",
    "        new_bb_infor = []\n",
    "        for xyxy, conf in bb_infor:\n",
    "            xyxy[:, [0,2]] += x_offset  # cộng offset theo trục x\n",
    "            xyxy[:, [1,3]] += y_offset  # cộng offset theo trục y\n",
    "            new_bb_infor.append([xyxy, conf])\n",
    "        bb_infors.extend(new_bb_infor)\n",
    "    del large_img \n",
    "    del splited_large_img_arr\n",
    "    gc.collect()\n",
    "    return bb_infors\n",
    "\n",
    "def format_alert(source_dir, targer_dir, model = None):\n",
    "    \"\"\"\n",
    "    Run ship detection on each large image and save results as telemetry text files.\n",
    "\n",
    "    Args:\n",
    "        source_dir : str, optional\n",
    "            Path to the directory containing large images. Defaults to SOURCE_IMG.\n",
    "        target_dir : str, optional\n",
    "            Path to the directory where telemetry files will be saved. Defaults to TARGET_IMG.\n",
    "        model : object, optional\n",
    "            Pre-loaded YOLO model used for ship detection.\n",
    "\n",
    "    Output:\n",
    "        For each large image, a text file named [count].txt is written to target_dir,\n",
    "        containing:\n",
    "            - Image path\n",
    "            - Number of detected ships\n",
    "            - One line per bounding box: [x1, y1, x2, y2, conf]\n",
    "    \"\"\"\n",
    "    count = 0\n",
    "    for a_large_img_path in scan_images(source_dir):\n",
    "        bb_infors = bb_infors_of_large_image(a_large_img_path, model)\n",
    "        out_path = os.path.join(target_dir, f\"{count}.txt\")\n",
    "        with open(out_path, \"w\") as f:\n",
    "            f.write(f\"{a_large_img_path}\\n\")\n",
    "            f.write(f\"{len(bb_infors)}\\n\")  # số lượng ship detection\n",
    "            for xyxy, conf in bb_infors:\n",
    "                for i in range(len(conf)):\n",
    "                    x1, y1, x2, y2 = xyxy[i]\n",
    "                    c = conf[i]\n",
    "                    f.write(f\"[{x1:.2f}, {y1:.2f}, {x2:.2f}, {y2:.2f}, {c:.4f}]\\n\")\n",
    "        count += 1\n",
    "        gc.collect()\n",
    "    return count"
   ]
  },
  {
   "cell_type": "markdown",
   "metadata": {},
   "source": [
    "# **utils.py**"
   ]
  },
  {
   "cell_type": "code",
   "execution_count": null,
   "metadata": {
    "trusted": true
   },
   "outputs": [],
   "source": [
    "def main(source_dir = None, targer_dir = None, retrive_dir =None, model = None):\n",
    "    while True:\n",
    "        print(\"=\"*40)\n",
    "        print(\"                MAIN MENU\")\n",
    "        print(\"=\"*40)\n",
    "        print(\"1. Count number of images collected\")\n",
    "        print(\"2. List all collected images with detected ship count\")\n",
    "        print(\"3. Retrieve alls\")\n",
    "        print(\"0. Exit\")\n",
    "        \n",
    "        print(\"\\nYour choice:\")\n",
    "        print(\"=\"*40)\n",
    "        try:\n",
    "            op = int(input(\"Enter option: \"))\n",
    "        except ValueError:\n",
    "            print(\"Invalid input! Please enter a number.\")\n",
    "            continue\n",
    "        if op == 0:\n",
    "            print(\"Exiting DONE\")\n",
    "            break\n",
    "        elif op == 1:\n",
    "            print(\"Number of image collected: \", len(os.listdir(targer_dir)))\n",
    "        elif op == 2:\n",
    "            print(\"Listing images\")\n",
    "            print_image_info(targer_dir)\n",
    "            user_input = str(input(\"Do you want retrieve some images, e.g: Enter 1 5 6 8 to collect images 1, 5, 6, and 8 or 0 to back Menu :\"))\n",
    "            if user_input == \"0\":\n",
    "                continue\n",
    "            retrieve_images(user_input, targer_dir, retrive_dir)\n",
    "        elif op == 3:\n",
    "            retrieve_images(\"all\", targer_dir, retrive_dir)\n",
    "            \n",
    "        else:\n",
    "            print(\"⚠️  Invalid option, please try again.\")\n"
   ]
  },
  {
   "cell_type": "code",
   "execution_count": null,
   "metadata": {
    "trusted": true
   },
   "outputs": [],
   "source": [
    "import os\n",
    "import shutil\n",
    "\n",
    "def print_image_info(target_dir):\n",
    "    txt_files = sorted(\n",
    "        [f for f in os.listdir(target_dir) if f.endswith(\".txt\")],\n",
    "        key=lambda x: int(os.path.splitext(x)[0])  # sắp theo số 1,2,3,...\n",
    "    )\n",
    "\n",
    "    for idx, file_name in enumerate(txt_files, start=1):\n",
    "        file_path = os.path.join(target_dir, file_name)\n",
    "        with open(file_path, \"r\") as f:\n",
    "            lines = [line.strip() for line in f.readlines() if line.strip()]\n",
    "\n",
    "        if len(lines) < 2:\n",
    "            continue  # bỏ qua file lỗi\n",
    "\n",
    "        image_path = lines[0]\n",
    "        num_ships = lines[1]\n",
    "\n",
    "        print(f\"{idx}. Image information: {image_path} | Number of detected ships: {num_ships}\")\n",
    "\n",
    "def retrieve_images(user_input, target_dir, retrieve_dir):\n",
    "    \"\"\"\n",
    "    Retrieve selected images and their telemetry info based on user input.\n",
    "    \n",
    "    Args:\n",
    "        user_input (str): A string containing indexes separated by spaces (e.g., \"1 5 6 8\")\n",
    "                          or \"all\" to retrieve all available files.\n",
    "        target_dir (str): Directory containing telemetry files like 1.txt, 5.txt, etc.\n",
    "        retrieve_dir (str): Directory to save retrieved images and telemetry info.\n",
    "    \"\"\"\n",
    "    # Ensure retrieve_dir exists\n",
    "    os.makedirs(retrieve_dir, exist_ok=True)\n",
    "\n",
    "    # Determine which indexes to process\n",
    "    if user_input.strip().lower() == \"all\":\n",
    "        indexes = [os.path.splitext(f)[0] \n",
    "                   for f in os.listdir(target_dir) if f.endswith(\".txt\")]\n",
    "    else:\n",
    "        indexes = user_input.strip().split()\n",
    "\n",
    "    for idx in indexes:\n",
    "        txt_file = os.path.join(target_dir, f\"{idx}.txt\")\n",
    "        \n",
    "        if not os.path.exists(txt_file):\n",
    "            print(f\"Warning: {txt_file} not found. Skipping.\")\n",
    "            continue\n",
    "\n",
    "        # Read telemetry file\n",
    "        with open(txt_file, \"r\") as f:\n",
    "            lines = f.readlines()\n",
    "        \n",
    "        if not lines:\n",
    "            print(f\"Warning: {txt_file} is empty. Skipping.\")\n",
    "            continue\n",
    "\n",
    "        # First line = image path\n",
    "        image_path = lines[0].strip()\n",
    "        \n",
    "        # Extract image name (after last '/')\n",
    "        image_name = image_path.split(\"/\")[-1]\n",
    "\n",
    "        # Copy image to retrieve_dir\n",
    "        if os.path.exists(image_path):\n",
    "            shutil.copy(image_path, os.path.join(retrieve_dir, image_name))\n",
    "        else:\n",
    "            print(f\"Warning: Image {image_path} not found. Skipping image copy.\")\n",
    "\n",
    "        # Save telemetry info into [image_name].txt\n",
    "        telemetry_out_path = os.path.join(retrieve_dir, f\"{image_name}.txt\")\n",
    "        with open(telemetry_out_path, \"w\") as f_out:\n",
    "            f_out.writelines(lines)\n",
    "\n",
    "        print(f\"Retrieved: {image_name} + telemetry\")\n",
    "\n",
    "\n",
    "\n"
   ]
  },
  {
   "cell_type": "code",
   "execution_count": 5,
   "metadata": {
    "execution": {
     "iopub.execute_input": "2025-09-18T06:25:21.750612Z",
     "iopub.status.busy": "2025-09-18T06:25:21.750252Z",
     "iopub.status.idle": "2025-09-18T06:26:11.602789Z",
     "shell.execute_reply": "2025-09-18T06:26:11.601856Z",
     "shell.execute_reply.started": "2025-09-18T06:25:21.750582Z"
    },
    "trusted": true
   },
   "outputs": [
    {
     "name": "stdout",
     "output_type": "stream",
     "text": [
      "========================================\n",
      "                MAIN MENU\n",
      "========================================\n",
      "1. Count number of images collected\n",
      "2. List all collected images with detected ship count\n",
      "3. Retrieve alls\n",
      "0. Exit\n",
      "\n",
      "Your choice:\n",
      "========================================\n"
     ]
    },
    {
     "name": "stdout",
     "output_type": "stream",
     "text": [
      "Enter option:  1\n"
     ]
    },
    {
     "name": "stdout",
     "output_type": "stream",
     "text": [
      "ok option 1\n",
      "========================================\n",
      "                MAIN MENU\n",
      "========================================\n",
      "1. Count number of images collected\n",
      "2. List all collected images with detected ship count\n",
      "3. Retrieve alls\n",
      "0. Exit\n",
      "\n",
      "Your choice:\n",
      "========================================\n"
     ]
    },
    {
     "name": "stdout",
     "output_type": "stream",
     "text": [
      "Enter option:  2\n"
     ]
    },
    {
     "name": "stdout",
     "output_type": "stream",
     "text": [
      "Listing images\n"
     ]
    },
    {
     "name": "stdout",
     "output_type": "stream",
     "text": [
      "Do you want retrieve some images, e.g: Enter 1 5 6 8 to collect images 1, 5, 6, and 8 or 0 to back Menu : 0\n"
     ]
    },
    {
     "name": "stdout",
     "output_type": "stream",
     "text": [
      "========================================\n",
      "                MAIN MENU\n",
      "========================================\n",
      "1. Count number of images collected\n",
      "2. List all collected images with detected ship count\n",
      "3. Retrieve alls\n",
      "0. Exit\n",
      "\n",
      "Your choice:\n",
      "========================================\n"
     ]
    },
    {
     "name": "stdout",
     "output_type": "stream",
     "text": [
      "Enter option:  3\n"
     ]
    },
    {
     "name": "stdout",
     "output_type": "stream",
     "text": [
      "ok option 3\n",
      "========================================\n",
      "                MAIN MENU\n",
      "========================================\n",
      "1. Count number of images collected\n",
      "2. List all collected images with detected ship count\n",
      "3. Retrieve alls\n",
      "0. Exit\n",
      "\n",
      "Your choice:\n",
      "========================================\n"
     ]
    },
    {
     "name": "stdout",
     "output_type": "stream",
     "text": [
      "Enter option:  2\n"
     ]
    },
    {
     "name": "stdout",
     "output_type": "stream",
     "text": [
      "Listing images\n"
     ]
    },
    {
     "name": "stdout",
     "output_type": "stream",
     "text": [
      "Do you want retrieve some images, e.g: Enter 1 5 6 8 to collect images 1, 5, 6, and 8 or 0 to back Menu : 1 2 5 6 8\n"
     ]
    },
    {
     "name": "stdout",
     "output_type": "stream",
     "text": [
      "========================================\n",
      "                MAIN MENU\n",
      "========================================\n",
      "1. Count number of images collected\n",
      "2. List all collected images with detected ship count\n",
      "3. Retrieve alls\n",
      "0. Exit\n",
      "\n",
      "Your choice:\n",
      "========================================\n"
     ]
    },
    {
     "name": "stdout",
     "output_type": "stream",
     "text": [
      "Enter option:  0\n"
     ]
    },
    {
     "name": "stdout",
     "output_type": "stream",
     "text": [
      "Exiting DONE\n"
     ]
    }
   ],
   "source": [
    "while True:\n",
    "        print(\"=\"*40)\n",
    "        print(\"                MAIN MENU\")\n",
    "        print(\"=\"*40)\n",
    "        print(\"1. Count number of images collected\")\n",
    "        print(\"2. List all collected images with detected ship count\")\n",
    "        print(\"3. Retrieve alls\")\n",
    "        print(\"0. Exit\")\n",
    "        \n",
    "        print(\"\\nYour choice:\")\n",
    "        print(\"=\"*40)\n",
    "        try:\n",
    "            op = int(input(\"Enter option: \"))\n",
    "        except ValueError:\n",
    "            print(\"Invalid input! Please enter a number.\")\n",
    "            continue\n",
    "        if op == 0:\n",
    "            print(\"Exiting DONE\")\n",
    "            break\n",
    "        elif op == 1:\n",
    "            print(\"ok option 1\")\n",
    "        elif op == 2:\n",
    "            print(\"Listing images\")\n",
    "            #print_image_info(targer_dir)\n",
    "            user_input = str(input(\"Do you want retrieve some images, e.g: Enter 1 5 6 8 to collect images 1, 5, 6, and 8 or 0 to back Menu :\"))\n",
    "            if user_input == \"0\":\n",
    "                continue\n",
    "            #retrieve_images(user_input, targer_dir, retrive_dir)\n",
    "        elif op == 3:\n",
    "            print(\"ok option 3\")\n",
    "            #retrieve_images(\"all\", targer_dir, retrive_dir)\n",
    "            \n",
    "        else:\n",
    "            print(\"⚠️  Invalid option, please try again.\")"
   ]
  },
  {
   "cell_type": "code",
   "execution_count": null,
   "metadata": {
    "trusted": true
   },
   "outputs": [],
   "source": []
  }
 ],
 "metadata": {
  "kaggle": {
   "accelerator": "none",
   "dataSources": [],
   "dockerImageVersionId": 31089,
   "isGpuEnabled": false,
   "isInternetEnabled": true,
   "language": "python",
   "sourceType": "notebook"
  },
  "kernelspec": {
   "display_name": "Python 3",
   "language": "python",
   "name": "python3"
  },
  "language_info": {
   "codemirror_mode": {
    "name": "ipython",
    "version": 3
   },
   "file_extension": ".py",
   "mimetype": "text/x-python",
   "name": "python",
   "nbconvert_exporter": "python",
   "pygments_lexer": "ipython3",
   "version": "3.11.13"
  }
 },
 "nbformat": 4,
 "nbformat_minor": 4
}
