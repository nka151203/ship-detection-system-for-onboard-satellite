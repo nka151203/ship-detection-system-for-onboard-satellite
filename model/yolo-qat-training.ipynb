{
 "cells": [
  {
   "cell_type": "markdown",
   "metadata": {},
   "source": [
    "**DATASET**\n",
    ": Let's use this dataset for training on Kaggle: [/kaggle/input/airbus-ship-detection](https://www.kaggle.com/c/airbus-ship-detection)"
   ]
  },
  {
   "cell_type": "code",
   "execution_count": 1,
   "metadata": {
    "_cell_guid": "b1076dfc-b9ad-4769-8c92-a6c4dae69d19",
    "_uuid": "8f2839f25d086af736a60e9eeb907d3b93b6e0e5",
    "execution": {
     "iopub.execute_input": "2025-09-29T11:16:22.277328Z",
     "iopub.status.busy": "2025-09-29T11:16:22.277112Z",
     "iopub.status.idle": "2025-09-29T11:16:22.285037Z",
     "shell.execute_reply": "2025-09-29T11:16:22.284347Z",
     "shell.execute_reply.started": "2025-09-29T11:16:22.277306Z"
    },
    "trusted": true
   },
   "outputs": [],
   "source": [
    "H = 768\n",
    "WORK_DIR = \"/kaggle/working/\""
   ]
  },
  {
   "cell_type": "markdown",
   "metadata": {},
   "source": [
    "# **Step 1: Pre-processing data for YOLO Format**"
   ]
  },
  {
   "cell_type": "code",
   "execution_count": 2,
   "metadata": {
    "execution": {
     "iopub.execute_input": "2025-09-29T11:16:22.286092Z",
     "iopub.status.busy": "2025-09-29T11:16:22.285839Z",
     "iopub.status.idle": "2025-09-29T11:16:24.119220Z",
     "shell.execute_reply": "2025-09-29T11:16:24.118558Z",
     "shell.execute_reply.started": "2025-09-29T11:16:22.286070Z"
    },
    "trusted": true
   },
   "outputs": [],
   "source": [
    "import pandas as pd\n",
    "import numpy as np\n",
    "def encode_to_bounding_box(encode_value, check_test = False):\n",
    "    \"\"\"Function help convert Encode Pixel value to Bounding Box for YoLo Training for a picture\"\"\"\n",
    "    encode_value = list(map(int, encode_value.split()))\n",
    "    x_min, y_min, x_max, y_max = 1000, 1000, -1, -1\n",
    "    for i in range(0, len(encode_value), 2):\n",
    "        start = encode_value[i]\n",
    "        for j in range(start, start + encode_value[i+1]):\n",
    "            r = (j-1) % H\n",
    "            c = (j-1) // H\n",
    "            if x_min > c: x_min = c\n",
    "            if y_min > r: y_min = r\n",
    "            if x_max < c: x_max = c\n",
    "            if y_max < r: y_max = r\n",
    "    if x_min > 0 and y_min > 0: \n",
    "        x_min, y_min = x_min - 1, y_min - 1\n",
    "    if x_max > 0 and y_max > 0:\n",
    "        x_max, y_max = x_max + 1, y_max + 1\n",
    "    if check_test == True:\n",
    "        return [x_min, y_min, x_max, y_max]\n",
    "    x_center = (x_min + x_max) / 2 / H\n",
    "    y_center = (y_min + y_max) / 2 / H\n",
    "    w = (x_max - x_min) / H\n",
    "    h = (y_max - y_min) / H\n",
    "    bb = [0, x_center, y_center, w, h]\n",
    "    return \" \".join(map(str, bb))\n"
   ]
  },
  {
   "cell_type": "code",
   "execution_count": 3,
   "metadata": {
    "execution": {
     "iopub.execute_input": "2025-09-29T11:16:26.976726Z",
     "iopub.status.busy": "2025-09-29T11:16:26.976473Z",
     "iopub.status.idle": "2025-09-29T11:16:26.983054Z",
     "shell.execute_reply": "2025-09-29T11:16:26.982335Z",
     "shell.execute_reply.started": "2025-09-29T11:16:26.976705Z"
    },
    "trusted": true
   },
   "outputs": [],
   "source": [
    "import os\n",
    "import shutil\n",
    "\n",
    "images_path = os.path.join(WORK_DIR, \"images\")\n",
    "img_train = os.path.join(images_path, \"train\")\n",
    "img_val = os.path.join(images_path, \"val\")\n",
    "img_test = os.path.join(images_path, \"test\")\n",
    "\n",
    "labels_path = os.path.join(WORK_DIR, \"labels\")\n",
    "lb_train = os.path.join(labels_path, \"train\")\n",
    "lb_val = os.path.join(labels_path, \"val\")\n",
    "lb_test = os.path.join(labels_path, \"test\")\n",
    "\n",
    "if os.path.exists(images_path) and os.path.exists(labels_path):\n",
    "    shutil.rmtree(images_path)\n",
    "    shutil.rmtree(labels_path)\n",
    "for path in [images_path, img_train, img_val, img_test,\n",
    "         labels_path, lb_train, lb_val, lb_test]:\n",
    "    os.makedirs(path, exist_ok=True)"
   ]
  },
  {
   "cell_type": "code",
   "execution_count": null,
   "metadata": {
    "execution": {
     "iopub.execute_input": "2025-09-29T11:16:26.984296Z",
     "iopub.status.busy": "2025-09-29T11:16:26.984053Z",
     "iopub.status.idle": "2025-09-29T11:18:07.073651Z",
     "shell.execute_reply": "2025-09-29T11:18:07.073050Z",
     "shell.execute_reply.started": "2025-09-29T11:16:26.984264Z"
    },
    "trusted": true
   },
   "outputs": [
    {
     "name": "stdout",
     "output_type": "stream",
     "text": [
      "Processed  train :  2000\n",
      "Processed  train :  4000\n",
      "Processed  train :  6000\n",
      "Processed  train :  8000\n",
      "Processed  train :  10000\n",
      "Processed  train :  12000\n",
      "Processed  train :  14000\n",
      "Processed  train :  16000\n",
      "Processed  train :  18000\n",
      "Processed  train :  20000\n",
      "Check index_seg: 23930\n",
      "Processed  validation :  2000\n",
      "Processed  validation :  4000\n",
      "Processed  validation :  6000\n",
      "Processed  validation :  8000\n",
      "Processed  validation :  10000\n",
      "Check index_seg: 35972\n"
     ]
    }
   ],
   "source": [
    "train_list = pd.read_csv(\"/kaggle/input/airbus-ship-detection/train_ship_segmentations_v2.csv\")\n",
    "has_ship_train = 90000\n",
    "has_ship_val = 10000\n",
    "\n",
    "index_seg = 0\n",
    "def setup_dataset(has_ship_len, index_seg, img_path, lb_path, tag = 'train'):\n",
    "    has = 0\n",
    "    multiple = False\n",
    "    while has < has_ship_len:\n",
    "        if pd.isna(train_list.iloc[index_seg,1]) == False:\n",
    "            img_name = train_list.iloc[index_seg,0]\n",
    "            \n",
    "            src_img_path = \"/kaggle/input/airbus-ship-detection/train_v2/\"+img_name\n",
    "            full_img_path = os.path.join(img_path, img_name)\n",
    "            shutil.copy(src_img_path, full_img_path) #copy ảnh vào thư mục cần \n",
    "            \n",
    "            full_lb_path = os.path.join(lb_path, img_name.replace(\".jpg\", \".txt\"))\n",
    "            bbs = []\n",
    "            while train_list.iloc[index_seg,0] == img_name:\n",
    "                multiple = True\n",
    "                bbs.append(encode_to_bounding_box(train_list.iloc[index_seg,1]))\n",
    "                index_seg += 1\n",
    "            with open(full_lb_path, \"w\") as f:\n",
    "                for item in bbs:\n",
    "                    f.write(item + \"\\n\")\n",
    "        has += 1\n",
    "        if has % 2000 == 0: print(\"Processed \",tag,\": \",has)\n",
    "        if multiple == False: index_seg += 1\n",
    "        else: multiple = False\n",
    "    print(\"Check index_seg:\", index_seg)\n",
    "    return index_seg\n",
    "\n",
    "index_seg = setup_dataset(has_ship_train, index_seg, img_train, lb_train, 'train') #SETUP TRAIN\n",
    "index_seg = setup_dataset(has_ship_val, index_seg, img_val, lb_val, 'validation') #SETUP VALIDATION\n",
    "#setup_dataset(has_ship_test, index_seg, img_test, lb_test, 'test') #SETUP TEST"
   ]
  },
  {
   "cell_type": "markdown",
   "metadata": {},
   "source": [
    "# **Step 2: YOLO Setup**"
   ]
  },
  {
   "cell_type": "code",
   "execution_count": 12,
   "metadata": {
    "execution": {
     "iopub.execute_input": "2025-09-29T09:06:48.858488Z",
     "iopub.status.busy": "2025-09-29T09:06:48.857850Z",
     "iopub.status.idle": "2025-09-29T09:06:52.180778Z",
     "shell.execute_reply": "2025-09-29T09:06:52.179787Z",
     "shell.execute_reply.started": "2025-09-29T09:06:48.858462Z"
    },
    "trusted": true
   },
   "outputs": [
    {
     "name": "stdout",
     "output_type": "stream",
     "text": [
      "Requirement already satisfied: ultralytics in /usr/local/lib/python3.11/dist-packages (8.3.203)\n",
      "Requirement already satisfied: numpy>=1.23.0 in /usr/local/lib/python3.11/dist-packages (from ultralytics) (1.26.4)\n",
      "Requirement already satisfied: matplotlib>=3.3.0 in /usr/local/lib/python3.11/dist-packages (from ultralytics) (3.7.2)\n",
      "Requirement already satisfied: opencv-python>=4.6.0 in /usr/local/lib/python3.11/dist-packages (from ultralytics) (4.11.0.86)\n",
      "Requirement already satisfied: pillow>=7.1.2 in /usr/local/lib/python3.11/dist-packages (from ultralytics) (11.2.1)\n",
      "Requirement already satisfied: pyyaml>=5.3.1 in /usr/local/lib/python3.11/dist-packages (from ultralytics) (6.0.2)\n",
      "Requirement already satisfied: requests>=2.23.0 in /usr/local/lib/python3.11/dist-packages (from ultralytics) (2.32.4)\n",
      "Requirement already satisfied: scipy>=1.4.1 in /usr/local/lib/python3.11/dist-packages (from ultralytics) (1.15.3)\n",
      "Requirement already satisfied: torch>=1.8.0 in /usr/local/lib/python3.11/dist-packages (from ultralytics) (2.6.0+cu124)\n",
      "Requirement already satisfied: torchvision>=0.9.0 in /usr/local/lib/python3.11/dist-packages (from ultralytics) (0.21.0+cu124)\n",
      "Requirement already satisfied: psutil in /usr/local/lib/python3.11/dist-packages (from ultralytics) (7.0.0)\n",
      "Requirement already satisfied: polars in /usr/local/lib/python3.11/dist-packages (from ultralytics) (1.21.0)\n",
      "Requirement already satisfied: ultralytics-thop>=2.0.0 in /usr/local/lib/python3.11/dist-packages (from ultralytics) (2.0.17)\n",
      "Requirement already satisfied: contourpy>=1.0.1 in /usr/local/lib/python3.11/dist-packages (from matplotlib>=3.3.0->ultralytics) (1.3.2)\n",
      "Requirement already satisfied: cycler>=0.10 in /usr/local/lib/python3.11/dist-packages (from matplotlib>=3.3.0->ultralytics) (0.12.1)\n",
      "Requirement already satisfied: fonttools>=4.22.0 in /usr/local/lib/python3.11/dist-packages (from matplotlib>=3.3.0->ultralytics) (4.58.4)\n",
      "Requirement already satisfied: kiwisolver>=1.0.1 in /usr/local/lib/python3.11/dist-packages (from matplotlib>=3.3.0->ultralytics) (1.4.8)\n",
      "Requirement already satisfied: packaging>=20.0 in /usr/local/lib/python3.11/dist-packages (from matplotlib>=3.3.0->ultralytics) (25.0)\n",
      "Requirement already satisfied: pyparsing<3.1,>=2.3.1 in /usr/local/lib/python3.11/dist-packages (from matplotlib>=3.3.0->ultralytics) (3.0.9)\n",
      "Requirement already satisfied: python-dateutil>=2.7 in /usr/local/lib/python3.11/dist-packages (from matplotlib>=3.3.0->ultralytics) (2.9.0.post0)\n",
      "Requirement already satisfied: mkl_fft in /usr/local/lib/python3.11/dist-packages (from numpy>=1.23.0->ultralytics) (1.3.8)\n",
      "Requirement already satisfied: mkl_random in /usr/local/lib/python3.11/dist-packages (from numpy>=1.23.0->ultralytics) (1.2.4)\n",
      "Requirement already satisfied: mkl_umath in /usr/local/lib/python3.11/dist-packages (from numpy>=1.23.0->ultralytics) (0.1.1)\n",
      "Requirement already satisfied: mkl in /usr/local/lib/python3.11/dist-packages (from numpy>=1.23.0->ultralytics) (2025.2.0)\n",
      "Requirement already satisfied: tbb4py in /usr/local/lib/python3.11/dist-packages (from numpy>=1.23.0->ultralytics) (2022.2.0)\n",
      "Requirement already satisfied: mkl-service in /usr/local/lib/python3.11/dist-packages (from numpy>=1.23.0->ultralytics) (2.4.1)\n",
      "Requirement already satisfied: charset_normalizer<4,>=2 in /usr/local/lib/python3.11/dist-packages (from requests>=2.23.0->ultralytics) (3.4.2)\n",
      "Requirement already satisfied: idna<4,>=2.5 in /usr/local/lib/python3.11/dist-packages (from requests>=2.23.0->ultralytics) (3.10)\n",
      "Requirement already satisfied: urllib3<3,>=1.21.1 in /usr/local/lib/python3.11/dist-packages (from requests>=2.23.0->ultralytics) (2.5.0)\n",
      "Requirement already satisfied: certifi>=2017.4.17 in /usr/local/lib/python3.11/dist-packages (from requests>=2.23.0->ultralytics) (2025.6.15)\n",
      "Requirement already satisfied: filelock in /usr/local/lib/python3.11/dist-packages (from torch>=1.8.0->ultralytics) (3.18.0)\n",
      "Requirement already satisfied: typing-extensions>=4.10.0 in /usr/local/lib/python3.11/dist-packages (from torch>=1.8.0->ultralytics) (4.14.0)\n",
      "Requirement already satisfied: networkx in /usr/local/lib/python3.11/dist-packages (from torch>=1.8.0->ultralytics) (3.5)\n",
      "Requirement already satisfied: jinja2 in /usr/local/lib/python3.11/dist-packages (from torch>=1.8.0->ultralytics) (3.1.6)\n",
      "Requirement already satisfied: fsspec in /usr/local/lib/python3.11/dist-packages (from torch>=1.8.0->ultralytics) (2025.5.1)\n",
      "Requirement already satisfied: nvidia-cuda-nvrtc-cu12==12.4.127 in /usr/local/lib/python3.11/dist-packages (from torch>=1.8.0->ultralytics) (12.4.127)\n",
      "Requirement already satisfied: nvidia-cuda-runtime-cu12==12.4.127 in /usr/local/lib/python3.11/dist-packages (from torch>=1.8.0->ultralytics) (12.4.127)\n",
      "Requirement already satisfied: nvidia-cuda-cupti-cu12==12.4.127 in /usr/local/lib/python3.11/dist-packages (from torch>=1.8.0->ultralytics) (12.4.127)\n",
      "Requirement already satisfied: nvidia-cudnn-cu12==9.1.0.70 in /usr/local/lib/python3.11/dist-packages (from torch>=1.8.0->ultralytics) (9.1.0.70)\n",
      "Requirement already satisfied: nvidia-cublas-cu12==12.4.5.8 in /usr/local/lib/python3.11/dist-packages (from torch>=1.8.0->ultralytics) (12.4.5.8)\n",
      "Requirement already satisfied: nvidia-cufft-cu12==11.2.1.3 in /usr/local/lib/python3.11/dist-packages (from torch>=1.8.0->ultralytics) (11.2.1.3)\n",
      "Requirement already satisfied: nvidia-curand-cu12==10.3.5.147 in /usr/local/lib/python3.11/dist-packages (from torch>=1.8.0->ultralytics) (10.3.5.147)\n",
      "Requirement already satisfied: nvidia-cusolver-cu12==11.6.1.9 in /usr/local/lib/python3.11/dist-packages (from torch>=1.8.0->ultralytics) (11.6.1.9)\n",
      "Requirement already satisfied: nvidia-cusparse-cu12==12.3.1.170 in /usr/local/lib/python3.11/dist-packages (from torch>=1.8.0->ultralytics) (12.3.1.170)\n",
      "Requirement already satisfied: nvidia-cusparselt-cu12==0.6.2 in /usr/local/lib/python3.11/dist-packages (from torch>=1.8.0->ultralytics) (0.6.2)\n",
      "Requirement already satisfied: nvidia-nccl-cu12==2.21.5 in /usr/local/lib/python3.11/dist-packages (from torch>=1.8.0->ultralytics) (2.21.5)\n",
      "Requirement already satisfied: nvidia-nvtx-cu12==12.4.127 in /usr/local/lib/python3.11/dist-packages (from torch>=1.8.0->ultralytics) (12.4.127)\n",
      "Requirement already satisfied: nvidia-nvjitlink-cu12==12.4.127 in /usr/local/lib/python3.11/dist-packages (from torch>=1.8.0->ultralytics) (12.4.127)\n",
      "Requirement already satisfied: triton==3.2.0 in /usr/local/lib/python3.11/dist-packages (from torch>=1.8.0->ultralytics) (3.2.0)\n",
      "Requirement already satisfied: sympy==1.13.1 in /usr/local/lib/python3.11/dist-packages (from torch>=1.8.0->ultralytics) (1.13.1)\n",
      "Requirement already satisfied: mpmath<1.4,>=1.1.0 in /usr/local/lib/python3.11/dist-packages (from sympy==1.13.1->torch>=1.8.0->ultralytics) (1.3.0)\n",
      "Requirement already satisfied: six>=1.5 in /usr/local/lib/python3.11/dist-packages (from python-dateutil>=2.7->matplotlib>=3.3.0->ultralytics) (1.17.0)\n",
      "Requirement already satisfied: MarkupSafe>=2.0 in /usr/local/lib/python3.11/dist-packages (from jinja2->torch>=1.8.0->ultralytics) (3.0.2)\n",
      "Requirement already satisfied: intel-openmp<2026,>=2024 in /usr/local/lib/python3.11/dist-packages (from mkl->numpy>=1.23.0->ultralytics) (2024.2.0)\n",
      "Requirement already satisfied: tbb==2022.* in /usr/local/lib/python3.11/dist-packages (from mkl->numpy>=1.23.0->ultralytics) (2022.2.0)\n",
      "Requirement already satisfied: tcmlib==1.* in /usr/local/lib/python3.11/dist-packages (from tbb==2022.*->mkl->numpy>=1.23.0->ultralytics) (1.4.0)\n",
      "Requirement already satisfied: intel-cmplr-lib-rt in /usr/local/lib/python3.11/dist-packages (from mkl_umath->numpy>=1.23.0->ultralytics) (2024.2.0)\n",
      "Requirement already satisfied: intel-cmplr-lib-ur==2024.2.0 in /usr/local/lib/python3.11/dist-packages (from intel-openmp<2026,>=2024->mkl->numpy>=1.23.0->ultralytics) (2024.2.0)\n"
     ]
    }
   ],
   "source": [
    "# !pip install ultralytics"
   ]
  },
  {
   "cell_type": "code",
   "execution_count": null,
   "metadata": {
    "execution": {
     "iopub.execute_input": "2025-09-29T09:06:52.182644Z",
     "iopub.status.busy": "2025-09-29T09:06:52.182367Z",
     "iopub.status.idle": "2025-09-29T09:06:52.190571Z",
     "shell.execute_reply": "2025-09-29T09:06:52.189665Z",
     "shell.execute_reply.started": "2025-09-29T09:06:52.182621Z"
    },
    "trusted": true
   },
   "outputs": [
    {
     "name": "stdout",
     "output_type": "stream",
     "text": [
      "Đã tạo dataset.yaml\n"
     ]
    }
   ],
   "source": [
    "import yaml\n",
    "import os\n",
    "import torch\n",
    "from ultralytics import YOLO\n",
    "\n",
    "# Tạo file dataset.yaml\n",
    "yaml_file = '/kaggle/working/dataset.yaml'\n",
    "if os.path.exists(yaml_file):\n",
    "    os.remove(yaml_file)\n",
    "    \n",
    "dataset_info = {\n",
    "    'path': '/kaggle/working',\n",
    "    'train': 'images/train',\n",
    "    'val': 'images/val', \n",
    "    'test': 'images/test',\n",
    "    'nc': 1,                      \n",
    "    'names': ['ship'] \n",
    "}\n",
    "\n",
    "with open(yaml_file, 'w') as f:\n",
    "    yaml.dump(dataset_info, f, default_flow_style=False)\n"
   ]
  },
  {
   "cell_type": "markdown",
   "metadata": {},
   "source": [
    "# **Step 3: YOLO Quantization-aware Training**"
   ]
  },
  {
   "cell_type": "code",
   "execution_count": null,
   "metadata": {
    "execution": {
     "iopub.execute_input": "2025-09-26T02:17:34.773543Z",
     "iopub.status.busy": "2025-09-26T02:17:34.772930Z",
     "iopub.status.idle": "2025-09-26T02:17:34.777286Z",
     "shell.execute_reply": "2025-09-26T02:17:34.776481Z",
     "shell.execute_reply.started": "2025-09-26T02:17:34.773519Z"
    },
    "trusted": true
   },
   "outputs": [],
   "source": [
    "import torch\n",
    "from ultralytics import YOLO\n",
    "from ultralytics.nn.modules import Conv\n",
    "from torch import nn\n",
    "import torch.quantization as tq"
   ]
  },
  {
   "cell_type": "code",
   "execution_count": null,
   "metadata": {
    "execution": {
     "iopub.execute_input": "2025-09-26T02:17:35.718413Z",
     "iopub.status.busy": "2025-09-26T02:17:35.718123Z",
     "iopub.status.idle": "2025-09-26T02:17:35.766558Z",
     "shell.execute_reply": "2025-09-26T02:17:35.765730Z",
     "shell.execute_reply.started": "2025-09-26T02:17:35.718392Z"
    },
    "trusted": true
   },
   "outputs": [],
   "source": [
    "model = YOLO(\"yolov8n.pt\")"
   ]
  },
  {
   "cell_type": "code",
   "execution_count": null,
   "metadata": {
    "execution": {
     "iopub.execute_input": "2025-09-26T02:17:37.318910Z",
     "iopub.status.busy": "2025-09-26T02:17:37.318191Z",
     "iopub.status.idle": "2025-09-26T02:17:37.324524Z",
     "shell.execute_reply": "2025-09-26T02:17:37.323701Z",
     "shell.execute_reply.started": "2025-09-26T02:17:37.318884Z"
    },
    "trusted": true
   },
   "outputs": [],
   "source": [
    "def inspect_yolo_structure(model, max_depth=3):\n",
    "    \"\"\"Inspect YOLO model structure để hiểu cách fuse\"\"\"\n",
    "    def print_structure(module, prefix=\"\", depth=0):\n",
    "        if depth > max_depth:\n",
    "            return\n",
    "        \n",
    "        for name, child in module.named_children():\n",
    "            full_name = f\"{prefix}.{name}\" if prefix else name\n",
    "            print(f\"{'  ' * depth}{full_name}: {type(child).__name__}\")\n",
    "            \n",
    "            # Print attributes nếu có conv, bn, act\n",
    "            attrs = []\n",
    "            if hasattr(child, 'conv'):\n",
    "                attrs.append('conv')\n",
    "            if hasattr(child, 'bn'): \n",
    "                attrs.append('bn')\n",
    "            if hasattr(child, 'act'):\n",
    "                attrs.append('act')\n",
    "            if attrs:\n",
    "                print(f\"{'  ' * depth}  -> has: {attrs}\")\n",
    "            \n",
    "            print_structure(child, full_name, depth + 1)\n",
    "    print_structure(model)\n",
    "#inspect_yolo_structure(model)"
   ]
  },
  {
   "cell_type": "code",
   "execution_count": null,
   "metadata": {
    "execution": {
     "iopub.execute_input": "2025-09-26T02:17:40.543503Z",
     "iopub.status.busy": "2025-09-26T02:17:40.543223Z",
     "iopub.status.idle": "2025-09-26T02:17:40.588798Z",
     "shell.execute_reply": "2025-09-26T02:17:40.588068Z",
     "shell.execute_reply.started": "2025-09-26T02:17:40.543482Z"
    },
    "trusted": true
   },
   "outputs": [],
   "source": [
    "def fuse_conv_bn_only(model):\n",
    "    \"\"\"\n",
    "    Fuse: Conv + BatchNorm, Skip SiLU activation\n",
    "    \"\"\"\n",
    "    print(\"=== Fusing Conv+BN Only (SiLU Preserved) ===\")\n",
    "    \n",
    "    fused_count = 0\n",
    "    skipped_count = 0\n",
    "    \n",
    "    def fuse_recursive(module, prefix=\"\"):\n",
    "        nonlocal fused_count, skipped_count\n",
    "        \n",
    "        for name, child in module.named_children():\n",
    "            full_name = f\"{prefix}.{name}\" if prefix else name\n",
    "            \n",
    "            # Target: YOLO Conv modules (có conv, bn, act)\n",
    "            if isinstance(child, Conv):\n",
    "                if hasattr(child, 'conv') and hasattr(child, 'bn'):\n",
    "                    try:\n",
    "                        # Fuse CHÍNH XÁC conv + bn, BỎ QUA act\n",
    "                        torch.quantization.fuse_modules(\n",
    "                            child, \n",
    "                            ['conv', 'bn'],  # CHỈ 2 modules này\n",
    "                            inplace=True\n",
    "                        )\n",
    "                        fused_count += 1\n",
    "                        act_type = type(child.act).__name__ if hasattr(child, 'act') else 'None'\n",
    "                        #print(f\"✅ Fused Conv+BN: {full_name} (Act preserved: {act_type})\")\n",
    "                    except Exception as e:\n",
    "                        skipped_count += 1\n",
    "                        #print(f\"⚠️  Skip {full_name}: {e}\")\n",
    "            \n",
    "            # Handle generic modules chỉ có conv + bn\n",
    "            elif hasattr(child, 'conv') and hasattr(child, 'bn'):\n",
    "                if isinstance(child.conv, nn.Conv2d) and isinstance(child.bn, nn.BatchNorm2d):\n",
    "                    try:\n",
    "                        torch.quantization.fuse_modules(child, ['conv', 'bn'], inplace=True)\n",
    "                        fused_count += 1\n",
    "                        act_type = type(child.act).__name__ if hasattr(child, 'act') else 'None'\n",
    "                        #print(f\"✅ Fused Conv+BN: {full_name} (Act preserved: {act_type})\")\n",
    "                    except Exception as e:\n",
    "                        skipped_count += 1\n",
    "                        #print(f\"⚠️  Skip {full_name}: {e}\")\n",
    "            \n",
    "            # Recursive để đi sâu vào tất cả modules\n",
    "            fuse_recursive(child, full_name)\n",
    "    \n",
    "    fuse_recursive(model)\n",
    "    \n",
    "    print(f\"\\n📊 Fusion Summary:\")\n",
    "    print(f\"  ✅ Successfully fused: {fused_count} Conv+BN pairs\")\n",
    "    print(f\"  ⚠️  Skipped: {skipped_count} modules\")\n",
    "    print(f\"  🎯 Strategy: Conv+BN fusion only, SiLU preserved\")\n",
    "    \n",
    "    return model\n",
    "\n",
    "yolo_torch_model = model.model\n",
    "fused_torch_model = fuse_conv_bn_only(yolo_torch_model)"
   ]
  },
  {
   "cell_type": "code",
   "execution_count": null,
   "metadata": {
    "execution": {
     "iopub.execute_input": "2025-09-26T02:17:43.543678Z",
     "iopub.status.busy": "2025-09-26T02:17:43.543378Z",
     "iopub.status.idle": "2025-09-26T02:17:43.552804Z",
     "shell.execute_reply": "2025-09-26T02:17:43.552241Z",
     "shell.execute_reply.started": "2025-09-26T02:17:43.543657Z"
    },
    "trusted": true
   },
   "outputs": [],
   "source": [
    "def verify_conv_bn_fusion(model):\n",
    "    \"\"\"\n",
    "    Verify rằng Conv+BN đã được fuse, SiLU vẫn còn\n",
    "    \"\"\"\n",
    "    print(\"\\n=== Verifying Conv+BN Fusion ===\")\n",
    "    \n",
    "    conv_bn_count = 0\n",
    "    silu_count = 0\n",
    "    other_act_count = 0\n",
    "    \n",
    "    def count_modules(module, prefix=\"\"):\n",
    "        nonlocal conv_bn_count, silu_count, other_act_count\n",
    "        \n",
    "        for name, child in module.named_children():\n",
    "            full_name = f\"{prefix}.{name}\" if prefix else name\n",
    "            \n",
    "            # Count fused Conv+BN (should have ConvBn2d after fusion)\n",
    "            if 'ConvBn2d' in str(type(child)) or 'ConvBnReLU2d' in str(type(child)):\n",
    "                conv_bn_count += 1\n",
    "                #print(f\"🔗 Fused ConvBN: {full_name}\")\n",
    "            \n",
    "            # Count SiLU activations\n",
    "            elif isinstance(child, nn.SiLU):\n",
    "                silu_count += 1\n",
    "                #print(f\"⚡ SiLU preserved: {full_name}\")\n",
    "            \n",
    "            # Count other activations\n",
    "            elif isinstance(child, (nn.ReLU, nn.ReLU6, nn.GELU, nn.Hardswish)):\n",
    "                other_act_count += 1\n",
    "                #print(f\"🔥 Other activation: {full_name} ({type(child).__name__})\")\n",
    "            \n",
    "            count_modules(child, full_name)\n",
    "    \n",
    "    count_modules(model)\n",
    "    \n",
    "    print(f\"\\n📊 Verification Results:\")\n",
    "    print(f\"  🔗 Fused Conv+BN modules: {conv_bn_count}\")\n",
    "    print(f\"  ⚡ Preserved SiLU: {silu_count}\")  \n",
    "    print(f\"  🔥 Other activations: {other_act_count}\")\n",
    "    \n",
    "    if conv_bn_count > 0:\n",
    "        print(\"✅ Conv+BN fusion successful!\")\n",
    "    else:\n",
    "        print(\"❌ No fused Conv+BN found!\")\n",
    "        \n",
    "    if silu_count > 0:\n",
    "        print(\"✅ SiLU activations preserved!\")\n",
    "    else:\n",
    "        print(\"⚠️  No SiLU found (might be normal)\")\n",
    "\n",
    "verify_conv_bn_fusion(fused_torch_model)"
   ]
  },
  {
   "cell_type": "code",
   "execution_count": null,
   "metadata": {
    "execution": {
     "iopub.execute_input": "2025-09-26T02:17:56.069304Z",
     "iopub.status.busy": "2025-09-26T02:17:56.068696Z",
     "iopub.status.idle": "2025-09-26T02:23:59.492692Z",
     "shell.execute_reply": "2025-09-26T02:23:59.491884Z",
     "shell.execute_reply.started": "2025-09-26T02:17:56.069279Z"
    },
    "trusted": true
   },
   "outputs": [],
   "source": [
    "def setup_qat_config_for_silu():\n",
    "    \"\"\"\n",
    "    QAT config tối ưu cho model có SiLU không được fuse\n",
    "    \"\"\"\n",
    "    print(\"Setting up QAT config for SiLU preservation...\")\n",
    "    \n",
    "    # Sử dụng symmetric quantization cho SiLU (có negative values)\n",
    "    from torch.quantization.fake_quantize import FusedMovingAvgObsFakeQuantize\n",
    "    from torch.quantization.observer import MovingAverageMinMaxObserver\n",
    "    \n",
    "    # Activation fake quantizer - symmetric cho SiLU\n",
    "    activation_fake_quant = FusedMovingAvgObsFakeQuantize.with_args(\n",
    "        observer=MovingAverageMinMaxObserver,\n",
    "        quant_min=-128,\n",
    "        quant_max=127,\n",
    "        dtype=torch.qint8,\n",
    "        qscheme=torch.per_tensor_symmetric,\n",
    "        reduce_range=False\n",
    "    )\n",
    "    \n",
    "    # Weight fake quantizer - per channel cho better accuracy\n",
    "    weight_fake_quant = tq.default_weight_fake_quant\n",
    "    \n",
    "    qconfig = tq.QConfig(\n",
    "        activation=activation_fake_quant,\n",
    "        weight=weight_fake_quant\n",
    "    )\n",
    "    \n",
    "    print(\"✅ QAT config created for SiLU compatibility\")\n",
    "    return qconfig\n",
    "\n",
    "qat_config = setup_qat_config_for_silu()\n",
    "fused_torch_model.qconfig  = qat_config\n",
    "fused_torch_model.train()\n",
    "tq.prepare_qat(fused_torch_model, inplace=True)\n",
    "yolo_wrapper = model\n",
    "\n",
    "yolo_wrapper.model = fused_torch_model\n",
    "\n",
    "\n",
    "\n",
    "try:\n",
    "    yolo_wrapper.train(data='/kaggle/working/dataset.yaml', imgsz=768, epochs=99, batch=32, project='yolov11qat_ship', name='train_run', exist_ok=True)\n",
    "    \n",
    "except Exception as e:\n",
    "    print(f\"❌ Training failed: {e}\")\n",
    "    import traceback\n",
    "    traceback.print_exc()"
   ]
  },
  {
   "cell_type": "markdown",
   "metadata": {},
   "source": [
    "# **Post-processing for INT8 Quantization  & Evaluation**"
   ]
  },
  {
   "cell_type": "code",
   "execution_count": null,
   "metadata": {
    "execution": {
     "iopub.execute_input": "2025-09-27T18:40:19.134809Z",
     "iopub.status.busy": "2025-09-27T18:40:19.134082Z",
     "iopub.status.idle": "2025-09-27T18:40:19.342180Z",
     "shell.execute_reply": "2025-09-27T18:40:19.341325Z",
     "shell.execute_reply.started": "2025-09-27T18:40:19.134786Z"
    },
    "trusted": true
   },
   "outputs": [],
   "source": [
    "!cp /kaggle/input/8nqat/pytorch/default/1/8nqat.pt /kaggle/working/8nqat.pt"
   ]
  },
  {
   "cell_type": "code",
   "execution_count": null,
   "metadata": {
    "execution": {
     "iopub.execute_input": "2025-09-27T18:40:57.990074Z",
     "iopub.status.busy": "2025-09-27T18:40:57.989306Z",
     "iopub.status.idle": "2025-09-27T18:40:57.993965Z",
     "shell.execute_reply": "2025-09-27T18:40:57.993292Z",
     "shell.execute_reply.started": "2025-09-27T18:40:57.990042Z"
    },
    "trusted": true
   },
   "outputs": [],
   "source": [
    "model_path = \"/kaggle/working/8nqat.pt\""
   ]
  },
  {
   "cell_type": "code",
   "execution_count": null,
   "metadata": {
    "execution": {
     "iopub.execute_input": "2025-09-27T18:40:59.052805Z",
     "iopub.status.busy": "2025-09-27T18:40:59.052078Z",
     "iopub.status.idle": "2025-09-27T18:41:31.877463Z",
     "shell.execute_reply": "2025-09-27T18:41:31.876353Z",
     "shell.execute_reply.started": "2025-09-27T18:40:59.052780Z"
    },
    "trusted": true
   },
   "outputs": [],
   "source": [
    "from ultralytics import YOLO\n",
    "\n",
    "# Load model\n",
    "model = YOLO(model_path)\n",
    "\n",
    "# Export sang OpenVINO INT8\n",
    "model.export(format=\"openvino\", int8=True)"
   ]
  },
  {
   "cell_type": "code",
   "execution_count": null,
   "metadata": {
    "execution": {
     "iopub.execute_input": "2025-09-27T18:42:00.597467Z",
     "iopub.status.busy": "2025-09-27T18:42:00.597165Z",
     "iopub.status.idle": "2025-09-27T18:44:28.717050Z",
     "shell.execute_reply": "2025-09-27T18:44:28.716257Z",
     "shell.execute_reply.started": "2025-09-27T18:42:00.597438Z"
    },
    "trusted": true
   },
   "outputs": [],
   "source": [
    "int8_model = YOLO(\"/kaggle/working/11fpn_int8_openvino_model\")\n",
    "\n",
    "# Validate\n",
    "results = int8_model.val(data=\"/kaggle/working/dataset.yaml\", imgsz=768, split=\"val\")\n",
    "print(results)"
   ]
  },
  {
   "cell_type": "code",
   "execution_count": null,
   "metadata": {
    "execution": {
     "iopub.execute_input": "2025-09-27T18:44:38.617487Z",
     "iopub.status.busy": "2025-09-27T18:44:38.616900Z",
     "iopub.status.idle": "2025-09-27T18:44:38.622473Z",
     "shell.execute_reply": "2025-09-27T18:44:38.621777Z",
     "shell.execute_reply.started": "2025-09-27T18:44:38.617458Z"
    },
    "trusted": true
   },
   "outputs": [],
   "source": [
    "# Lấy metrics dictionary trực tiếp\n",
    "metrics = results.results_dict  # KHÔNG có ()\n",
    "\n",
    "# In ra các chỉ số\n",
    "print(\"mAP@0.5:\", metrics[\"metrics/mAP50(B)\"])\n",
    "print(\"mAP@0.5:0.95:\", metrics[\"metrics/mAP50-95(B)\"])\n",
    "print(\"Precision:\", metrics[\"metrics/precision(B)\"])\n",
    "print(\"Recall:\", metrics[\"metrics/recall(B)\"])"
   ]
  }
 ],
 "metadata": {
  "kaggle": {
   "accelerator": "nvidiaTeslaT4",
   "dataSources": [
    {
     "databundleVersionId": 868324,
     "sourceId": 9988,
     "sourceType": "competition"
    },
    {
     "isSourceIdPinned": true,
     "modelId": 459417,
     "modelInstanceId": 442883,
     "sourceId": 591959,
     "sourceType": "modelInstanceVersion"
    },
    {
     "isSourceIdPinned": true,
     "modelId": 459677,
     "modelInstanceId": 443158,
     "sourceId": 592311,
     "sourceType": "modelInstanceVersion"
    }
   ],
   "dockerImageVersionId": 31090,
   "isGpuEnabled": true,
   "isInternetEnabled": true,
   "language": "python",
   "sourceType": "notebook"
  },
  "kernelspec": {
   "display_name": "Python 3",
   "language": "python",
   "name": "python3"
  },
  "language_info": {
   "codemirror_mode": {
    "name": "ipython",
    "version": 3
   },
   "file_extension": ".py",
   "mimetype": "text/x-python",
   "name": "python",
   "nbconvert_exporter": "python",
   "pygments_lexer": "ipython3",
   "version": "3.11.13"
  }
 },
 "nbformat": 4,
 "nbformat_minor": 4
}
